{
 "cells": [
  {
   "cell_type": "code",
   "execution_count": 1,
   "id": "f1c8e483",
   "metadata": {},
   "outputs": [],
   "source": [
    "import tensorflow as tf\n",
    "from tensorflow import keras\n",
    "import matplotlib.pyplot as plt"
   ]
  },
  {
   "cell_type": "code",
   "execution_count": 3,
   "id": "47093358",
   "metadata": {},
   "outputs": [],
   "source": [
    "mnist = keras.datasets.mnist\n",
    "(x_train_full, y_train_full),(x_test, y_test) = mnist.load_data()"
   ]
  },
  {
   "cell_type": "markdown",
   "id": "517798ce",
   "metadata": {},
   "source": [
    "# Normalizing"
   ]
  },
  {
   "cell_type": "code",
   "execution_count": 4,
   "id": "4740d03a",
   "metadata": {},
   "outputs": [],
   "source": [
    "class_names = [\"0\",\"1\",\"2\",\"3\",\"4\",\"5\",\"6\",\"7\",\"8\",\"9\"]"
   ]
  },
  {
   "cell_type": "code",
   "execution_count": 7,
   "id": "822d6347",
   "metadata": {},
   "outputs": [],
   "source": [
    "model = keras.models.Sequential([\n",
    "    keras.layers.Flatten(input_shape=[28,28]),\n",
    "    keras.layers.BatchNormalization(),\n",
    "    keras.layers.Dense(300, activation = \"relu\"),\n",
    "    keras.layers.Dense(100, activation = \"relu\"),\n",
    "    keras.layers.Dense(10, activation = \"softmax\")])"
   ]
  },
  {
   "cell_type": "markdown",
   "id": "39a14c86",
   "metadata": {},
   "source": [
    "### Using Optimizers"
   ]
  },
  {
   "cell_type": "code",
   "execution_count": 9,
   "id": "40c7fa3e",
   "metadata": {},
   "outputs": [],
   "source": [
    "opt = tf.keras.optimizers.SGD(learning_rate = 0.0001, momentum = 0.9, nesterov = True) \n",
    "model.compile(loss = 'categorical_crossentropy', optimizer = opt)"
   ]
  },
  {
   "cell_type": "markdown",
   "id": "b05f78c3",
   "metadata": {},
   "source": [
    "## Learning Rate Scheduling"
   ]
  },
  {
   "cell_type": "code",
   "execution_count": 10,
   "id": "97a8c02f",
   "metadata": {},
   "outputs": [],
   "source": [
    "#exponential_schedule\n",
    "#power_schedule\n",
    "#piece wise constant scheduling\n",
    "\n",
    "#here we will just go for power scheduling\n",
    "\n",
    "opt = tf.keras.optimizers.SGD(learning_rate =0.01, decay =1e-4)\n",
    "model.compile(loss = \"categorical_crossentropy\", optimizer = opt)\n"
   ]
  },
  {
   "cell_type": "markdown",
   "id": "f93010a5",
   "metadata": {},
   "source": [
    "# Prunning the Model"
   ]
  },
  {
   "cell_type": "code",
   "execution_count": null,
   "id": "8b3ab68a",
   "metadata": {},
   "outputs": [],
   "source": [
    "import tempfile\n",
    "import os\n",
    "import numpy as np\n"
   ]
  }
 ],
 "metadata": {
  "kernelspec": {
   "display_name": "Python 3 (ipykernel)",
   "language": "python",
   "name": "python3"
  },
  "language_info": {
   "codemirror_mode": {
    "name": "ipython",
    "version": 3
   },
   "file_extension": ".py",
   "mimetype": "text/x-python",
   "name": "python",
   "nbconvert_exporter": "python",
   "pygments_lexer": "ipython3",
   "version": "3.9.6"
  }
 },
 "nbformat": 4,
 "nbformat_minor": 5
}
